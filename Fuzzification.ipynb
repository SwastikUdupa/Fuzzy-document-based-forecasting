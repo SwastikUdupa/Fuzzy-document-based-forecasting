{
 "cells": [
  {
   "cell_type": "code",
   "execution_count": 62,
   "metadata": {
    "collapsed": true
   },
   "outputs": [],
   "source": [
    "import warnings\n",
    "warnings.filterwarnings('ignore')\n",
    "import pandas as pd\n",
    "df = pd.read_csv('infy(97-98).csv')"
   ]
  },
  {
   "cell_type": "code",
   "execution_count": 23,
   "metadata": {},
   "outputs": [
    {
     "name": "stdout",
     "output_type": "stream",
     "text": [
      "Unnamed: 0\n",
      "Date\n",
      "Open Price\n",
      "High Price\n",
      "Low Price\n",
      "Close Price\n"
     ]
    }
   ],
   "source": [
    "column_list = list(df.columns.values)\n",
    "for items in column_list:\n",
    "    print(items)\n",
    "rows = df.shape[0]"
   ]
  },
  {
   "cell_type": "code",
   "execution_count": 18,
   "metadata": {},
   "outputs": [],
   "source": [
    "header = [\"Date\", \"Open Price\", \"High Price\", \"Low Price\", \"Close Price\"]\n",
    "df.to_csv('output.csv', columns = header)"
   ]
  },
  {
   "cell_type": "code",
   "execution_count": 77,
   "metadata": {},
   "outputs": [
    {
     "name": "stdout",
     "output_type": "stream",
     "text": [
      "   Unnamed: 0         Date  Open Price  High Price  Low Price  Close Price\n",
      "0           0  01-Jan-1997      790.00       810.0     790.00       790.10\n",
      "1           1  02-Jan-1997      799.90       804.0     791.00       797.40\n",
      "2           2  03-Jan-1997      791.05       799.0     791.05       796.00\n",
      "3           3  06-Jan-1997      809.00       809.0     800.00       800.00\n",
      "4           4  07-Jan-1997      790.05       803.0     790.05       801.70\n",
      "5           5  08-Jan-1997      810.00       810.0     800.05       801.60\n",
      "6           6  09-Jan-1997      800.00       809.5     800.00       809.45\n",
      "7           7  10-Jan-1997      819.50       830.0     815.00       821.05\n",
      "8           8  13-Jan-1997      829.90       832.9     827.10       832.90\n",
      "9           9  14-Jan-1997      835.00       835.0     827.05       833.85\n"
     ]
    }
   ],
   "source": [
    "df = pd.read_csv('output.csv')\n",
    "print(df[:10])"
   ]
  },
  {
   "cell_type": "markdown",
   "metadata": {},
   "source": [
    "From the above data, we get the following\n",
    "1. Upper Shadow\n",
    "2. Body\n",
    "3. Lower Shadow\n",
    "4. Candle Color\n",
    "\n",
    "For observations taken on each day.\n",
    "\n",
    "## Upper Shadow\n",
    "Size of the upper Shadow represents the sentiment of the buyers.\n",
    "\n",
    "## Body\n",
    "Body represents the intensity of the market sentiment.\n",
    "\n",
    "## Lower Shadow\n",
    "Size of the lower shadow represents the sentiment of the sellers.\n",
    "\n",
    "## Candle Color\n",
    "Shows whether the sentiment is gaining strength or losing."
   ]
  },
  {
   "cell_type": "markdown",
   "metadata": {},
   "source": [
    "## Assumption\n",
    "\n",
    "The value of n to determine the universe of discourse is told to be 7. Here I have assumed that, the universe of discourse for any point is the average of 7 points prior to it. Not sure of this though. So we avoid the first 7 points of a given dataset?"
   ]
  },
  {
   "cell_type": "code",
   "execution_count": 81,
   "metadata": {},
   "outputs": [],
   "source": [
    "df['Candle Color'] = 0\n",
    "df['Upper Shadow'] = 0\n",
    "df['Lower Shadow'] = 0\n",
    "\n",
    "df['Body'] = abs(df['Open Price']-df['Close Price'])\n",
    "\n",
    "for i in range(rows):\n",
    "    if df['Open Price'][i]>df ['Close Price'][i]:\n",
    "        df['Candle Color'][i] =  'Black'\n",
    "        df['Upper Shadow'][i] = abs(df['Open Price'][i] - df['High Price'][i])\n",
    "        df['Lower Shadow'][i] = abs(df['Close Price'][i] - df['Low Price'][i])\n",
    "    else:\n",
    "        df['Candle Color'][i] =  'White'\n",
    "        df['Upper Shadow'][i] = abs(df['Close Price'][i] - df['High Price'][i])\n",
    "        df['Lower Shadow'][i] = abs(df['Open Price'][i] - df['Low Price'][i])\n"
   ]
  },
  {
   "cell_type": "code",
   "execution_count": 91,
   "metadata": {},
   "outputs": [],
   "source": [
    "df['universe_disc'] = 0\n",
    "for i in range(rows-7):\n",
    "    df['universe_disc'][i+7] = (sum(list(df['Body'][i:i+7])))/7"
   ]
  },
  {
   "cell_type": "code",
   "execution_count": 96,
   "metadata": {},
   "outputs": [],
   "source": [
    "df['a'] = 0.15*df['universe_disc']\n",
    "df['b'] = 0.30*df['universe_disc']\n",
    "df['c'] = 0.45*df['universe_disc']\n",
    "df['d'] = 0.60*df['universe_disc']\n",
    "df['e'] = 0.75*df['universe_disc']"
   ]
  },
  {
   "cell_type": "code",
   "execution_count": 98,
   "metadata": {},
   "outputs": [
    {
     "name": "stdout",
     "output_type": "stream",
     "text": [
      "   Unnamed: 0         Date  Open Price  High Price  Low Price  Close Price  \\\n",
      "0           0  01-Jan-1997      790.00       810.0     790.00       790.10   \n",
      "1           1  02-Jan-1997      799.90       804.0     791.00       797.40   \n",
      "2           2  03-Jan-1997      791.05       799.0     791.05       796.00   \n",
      "3           3  06-Jan-1997      809.00       809.0     800.00       800.00   \n",
      "4           4  07-Jan-1997      790.05       803.0     790.05       801.70   \n",
      "5           5  08-Jan-1997      810.00       810.0     800.05       801.60   \n",
      "6           6  09-Jan-1997      800.00       809.5     800.00       809.45   \n",
      "7           7  10-Jan-1997      819.50       830.0     815.00       821.05   \n",
      "8           8  13-Jan-1997      829.90       832.9     827.10       832.90   \n",
      "9           9  14-Jan-1997      835.00       835.0     827.05       833.85   \n",
      "\n",
      "  Candle Color  Upper Shadow  Lower Shadow   Body  universe_disc    a    b  \\\n",
      "0        White            19             0   0.10              0  0.0  0.0   \n",
      "1        Black             4             6   2.50              0  0.0  0.0   \n",
      "2        White             3             0   4.95              0  0.0  0.0   \n",
      "3        Black             0             0   9.00              0  0.0  0.0   \n",
      "4        White             1             0  11.65              0  0.0  0.0   \n",
      "5        Black             0             1   8.40              0  0.0  0.0   \n",
      "6        White             0             0   9.45              0  0.0  0.0   \n",
      "7        White             8             4   1.55              6  0.9  1.8   \n",
      "8        White             0             2   3.00              6  0.9  1.8   \n",
      "9        Black             0             6   1.15              6  0.9  1.8   \n",
      "\n",
      "     c    d    e  \n",
      "0  0.0  0.0  0.0  \n",
      "1  0.0  0.0  0.0  \n",
      "2  0.0  0.0  0.0  \n",
      "3  0.0  0.0  0.0  \n",
      "4  0.0  0.0  0.0  \n",
      "5  0.0  0.0  0.0  \n",
      "6  0.0  0.0  0.0  \n",
      "7  2.7  3.6  4.5  \n",
      "8  2.7  3.6  4.5  \n",
      "9  2.7  3.6  4.5  \n"
     ]
    }
   ],
   "source": [
    "print(df[:10])"
   ]
  },
  {
   "cell_type": "markdown",
   "metadata": {},
   "source": [
    "## Assumption\n",
    "\n",
    "Couldn't figure out what exactly x meant, when they try fuzzifying. So took x as D<sub>i</sub><sup>OPCL</sup> as they have mentioned it can be either that or US<sub>i</sub> or LS<sub>i</sub>"
   ]
  },
  {
   "cell_type": "code",
   "execution_count": 106,
   "metadata": {},
   "outputs": [],
   "source": [
    "df['mTNY'] = 0\n",
    "df['mVS'] = 0\n",
    "df['mSM'] = 0\n",
    "df['mBG'] = 0\n",
    "df['mVBG'] = 0\n",
    "\n",
    "\n",
    "for i in range(rows):\n",
    "    a = df['a'][i]\n",
    "    b = df['b'][i]\n",
    "    c = df['c'][i]\n",
    "    d = df['d'][i]\n",
    "    e = df['e'][i]\n",
    "    x = df['Body'][i]\n",
    "    if x<=a:\n",
    "        df['mTNY'][i] = 1\n",
    "    elif x<b and x>a:\n",
    "        df['mTNY'][i] = (b-x)/(b-a)\n",
    "    else:\n",
    "        df['mTNY'][i] = 0\n",
    "        \n",
    "        \n",
    "    if x==b:\n",
    "        df['mVS'][i] = 1\n",
    "    elif x<b and x>a:\n",
    "        df['mVS'][i] = (x-a)/(b-a)\n",
    "    elif x>b and x<c:\n",
    "        df['mVS'][i] = (c-x)/(c-b)\n",
    "    else:\n",
    "        df['mVS'][i] = 0\n",
    "        \n",
    "        \n",
    "    if x==c:\n",
    "        df['mSM'][i] = 1\n",
    "    elif x<c and x>b:\n",
    "        df['mSM'][i] = (x-b)/(c-b)\n",
    "    elif x<d and x>c:\n",
    "        df['mSM'][i] = (d-x)/(d-c)\n",
    "    else:\n",
    "        df['mSM'][i] = 0\n",
    "        \n",
    "        \n",
    "    if x==d:\n",
    "        df['mBG'][i] = 1\n",
    "    elif x<d and x>c:\n",
    "        df['mBG'][i] = (x-c)/(d-c)\n",
    "    elif x<e and x>d:\n",
    "        df['mBG'][i] = (e-x)/(e-d)\n",
    "    else:\n",
    "        df['mBG'][i] = 0\n",
    "        \n",
    "        \n",
    "    if x>=e:\n",
    "        df['mVBG'][i] = 1\n",
    "    elif x<e and x>d:\n",
    "        df['mVBG'][i] = (x-d)/(b-a)\n",
    "    else:\n",
    "        df['mVBG'][i] = 0"
   ]
  },
  {
   "cell_type": "markdown",
   "metadata": {},
   "source": [
    "### 4.1.2\n",
    "Fuzzification of the trend of closing values before and after a particular point p in the time series"
   ]
  },
  {
   "cell_type": "code",
   "execution_count": 117,
   "metadata": {},
   "outputs": [],
   "source": [
    "df['Bias'] = 0\n",
    "df['Magnitude'] = 0\n",
    "for i in range(3, rows):\n",
    "    df['Magnitude'][i] = abs(df['Close Price'][i] - df['Close Price'][i-3])\n",
    "    if df['Close Price'][i]>=df ['Close Price'][i-3]:\n",
    "        df['Bias'][i] = 'Positive'\n",
    "    else:\n",
    "        df['Bias'][i] = 'Negative'"
   ]
  },
  {
   "cell_type": "markdown",
   "metadata": {},
   "source": [
    "## Assumption\n",
    "We now make the Fuzzy(x). Here again x is taken as D<sub>i</sub><sup>OPCL</sup>"
   ]
  },
  {
   "cell_type": "code",
   "execution_count": 125,
   "metadata": {},
   "outputs": [],
   "source": [
    "df['fuzzy'] = 0\n",
    "for i in range(rows):\n",
    "    max_val = max(df['mTNY'][i], df['mSM'][i], df['mVS'][i], df['mBG'][i], df['mVBG'][i])\n",
    "    if df['mTNY'][i] == max_val:\n",
    "        df['fuzzy'][i] = 'TNY'\n",
    "    elif df['mVS'][i] == max_val:\n",
    "        df['fuzzy'][i] = 'VS'\n",
    "    elif df['mSM'][i] == max_val:\n",
    "        df['fuzzy'][i] = 'SM'\n",
    "    elif df['mBG'][i] == max_val:\n",
    "        df['fuzzy'][i] = 'BG'\n",
    "    else:\n",
    "        df['fuzzy'][i] = 'VBG'"
   ]
  },
  {
   "cell_type": "markdown",
   "metadata": {},
   "source": [
    "FM<sub>i</sub> represents the market momentum.\n",
    "\n",
    "\n",
    "There are seven rules for determining this which have been performed using the IF conditions."
   ]
  },
  {
   "cell_type": "code",
   "execution_count": null,
   "metadata": {
    "collapsed": true
   },
   "outputs": [],
   "source": [
    "if df['Bias'][i]"
   ]
  }
 ],
 "metadata": {
  "kernelspec": {
   "display_name": "Python 3",
   "language": "python",
   "name": "python3"
  },
  "language_info": {
   "codemirror_mode": {
    "name": "ipython",
    "version": 3
   },
   "file_extension": ".py",
   "mimetype": "text/x-python",
   "name": "python",
   "nbconvert_exporter": "python",
   "pygments_lexer": "ipython3",
   "version": "3.6.2"
  }
 },
 "nbformat": 4,
 "nbformat_minor": 2
}
